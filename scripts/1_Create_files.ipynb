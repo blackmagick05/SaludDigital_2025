{
 "cells": [
  {
   "cell_type": "code",
   "execution_count": 2,
   "id": "b7a30132",
   "metadata": {},
   "outputs": [
    {
     "name": "stdout",
     "output_type": "stream",
     "text": [
      "✅ Carpeta creada: c:\\Users\\51935\\documents\\SaludDigital_2025\\scripts\\data\n",
      "✅ Carpeta creada: c:\\Users\\51935\\documents\\SaludDigital_2025\\scripts\\database\n",
      "✅ Carpeta creada: c:\\Users\\51935\\documents\\SaludDigital_2025\\scripts\\reports\n",
      "✅ Carpeta creada: c:\\Users\\51935\\documents\\SaludDigital_2025\\scripts\\ci\n",
      "✅ Carpeta creada: c:\\Users\\51935\\documents\\SaludDigital_2025\\scripts\\git\n",
      "✅ Carpeta creada: c:\\Users\\51935\\documents\\SaludDigital_2025\\scripts\\scripts\n"
     ]
    }
   ],
   "source": [
    "from pathlib import Path\n",
    "\n",
    "proyecto = Path.cwd()\n",
    "carpetas = [\"data\", \"database\", \"reports\", \"ci\", \"git\", \"scripts\"]\n",
    "\n",
    "for carpeta in carpetas:\n",
    "    ruta = proyecto / carpeta\n",
    "    ruta.mkdir(parents=True, exist_ok=True)\n",
    "    print(f\"✅ Carpeta creada: {ruta}\")\n"
   ]
  }
 ],
 "metadata": {
  "kernelspec": {
   "display_name": "myenv",
   "language": "python",
   "name": "python3"
  },
  "language_info": {
   "codemirror_mode": {
    "name": "ipython",
    "version": 3
   },
   "file_extension": ".py",
   "mimetype": "text/x-python",
   "name": "python",
   "nbconvert_exporter": "python",
   "pygments_lexer": "ipython3",
   "version": "3.13.8"
  }
 },
 "nbformat": 4,
 "nbformat_minor": 5
}
