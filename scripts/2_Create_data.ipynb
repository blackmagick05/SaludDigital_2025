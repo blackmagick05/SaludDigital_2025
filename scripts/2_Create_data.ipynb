{
 "cells": [
  {
   "cell_type": "code",
   "execution_count": 1,
   "id": "11b27705",
   "metadata": {},
   "outputs": [
    {
     "name": "stdout",
     "output_type": "stream",
     "text": [
      "✅ base.csv creado en: c:\\Users\\51935\\documents\\SaludDigital_2025\\data\\base.csv\n"
     ]
    }
   ],
   "source": [
    "from pathlib import Path\n",
    "import csv\n",
    "\n",
    "data_path = Path.cwd().parent / \"data\"\n",
    "data_path.mkdir(parents=True, exist_ok=True)\n",
    "archivo = data_path / \"base.csv\"\n",
    "\n",
    "if not archivo.exists():\n",
    "    with open(archivo, mode=\"w\", newline=\"\", encoding=\"utf-8\") as f:\n",
    "        writer = csv.writer(f)\n",
    "        writer.writerow([\"id_paciente\",\"nombre\",\"edad\",\"sexo\",\"distrito\",\"servicio\",\"fecha_atencion\",\"monto\"])\n",
    "    print(f\"✅ base.csv creado en: {archivo}\")\n",
    "else:\n",
    "    print(\"⚠️ base.csv ya existe:\", archivo)\n"
   ]
  }
 ],
 "metadata": {
  "kernelspec": {
   "display_name": "myenv",
   "language": "python",
   "name": "python3"
  },
  "language_info": {
   "codemirror_mode": {
    "name": "ipython",
    "version": 3
   },
   "file_extension": ".py",
   "mimetype": "text/x-python",
   "name": "python",
   "nbconvert_exporter": "python",
   "pygments_lexer": "ipython3",
   "version": "3.13.8"
  }
 },
 "nbformat": 4,
 "nbformat_minor": 5
}
