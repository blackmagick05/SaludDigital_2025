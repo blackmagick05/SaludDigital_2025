{
 "cells": [
  {
   "cell_type": "code",
   "execution_count": 1,
   "id": "33d54b4a",
   "metadata": {},
   "outputs": [
    {
     "name": "stdout",
     "output_type": "stream",
     "text": [
      "✅ Archivo cargado correctamente\n",
      "📌 Registros iniciales: 3000\n",
      "✅ Archivo limpio guardado como: c:\\Users\\51935\\documents\\SaludDigital_2025\\database\\pacientes_clean.csv\n",
      "📌 Registros finales: 3000\n"
     ]
    },
    {
     "name": "stderr",
     "output_type": "stream",
     "text": [
      "C:\\Users\\51935\\AppData\\Local\\Temp\\ipykernel_4860\\855453881.py:23: FutureWarning: A value is trying to be set on a copy of a DataFrame or Series through chained assignment using an inplace method.\n",
      "The behavior will change in pandas 3.0. This inplace method will never work because the intermediate object on which we are setting values always behaves as a copy.\n",
      "\n",
      "For example, when doing 'df[col].method(value, inplace=True)', try using 'df.method({col: value}, inplace=True)' or df[col] = df[col].method(value) instead, to perform the operation inplace on the original object.\n",
      "\n",
      "\n",
      "  df[\"sexo\"].fillna(\"No especificado\", inplace=True)\n",
      "C:\\Users\\51935\\AppData\\Local\\Temp\\ipykernel_4860\\855453881.py:24: FutureWarning: A value is trying to be set on a copy of a DataFrame or Series through chained assignment using an inplace method.\n",
      "The behavior will change in pandas 3.0. This inplace method will never work because the intermediate object on which we are setting values always behaves as a copy.\n",
      "\n",
      "For example, when doing 'df[col].method(value, inplace=True)', try using 'df.method({col: value}, inplace=True)' or df[col] = df[col].method(value) instead, to perform the operation inplace on the original object.\n",
      "\n",
      "\n",
      "  df[\"distrito\"].fillna(\"No registrado\", inplace=True)\n",
      "C:\\Users\\51935\\AppData\\Local\\Temp\\ipykernel_4860\\855453881.py:25: FutureWarning: A value is trying to be set on a copy of a DataFrame or Series through chained assignment using an inplace method.\n",
      "The behavior will change in pandas 3.0. This inplace method will never work because the intermediate object on which we are setting values always behaves as a copy.\n",
      "\n",
      "For example, when doing 'df[col].method(value, inplace=True)', try using 'df.method({col: value}, inplace=True)' or df[col] = df[col].method(value) instead, to perform the operation inplace on the original object.\n",
      "\n",
      "\n",
      "  df[\"servicio\"].fillna(\"No asignado\", inplace=True)\n",
      "C:\\Users\\51935\\AppData\\Local\\Temp\\ipykernel_4860\\855453881.py:26: FutureWarning: A value is trying to be set on a copy of a DataFrame or Series through chained assignment using an inplace method.\n",
      "The behavior will change in pandas 3.0. This inplace method will never work because the intermediate object on which we are setting values always behaves as a copy.\n",
      "\n",
      "For example, when doing 'df[col].method(value, inplace=True)', try using 'df.method({col: value}, inplace=True)' or df[col] = df[col].method(value) instead, to perform the operation inplace on the original object.\n",
      "\n",
      "\n",
      "  df[\"edad\"].fillna(df[\"edad\"].median(), inplace=True)  # rellenamos con mediana\n",
      "C:\\Users\\51935\\AppData\\Local\\Temp\\ipykernel_4860\\855453881.py:27: FutureWarning: A value is trying to be set on a copy of a DataFrame or Series through chained assignment using an inplace method.\n",
      "The behavior will change in pandas 3.0. This inplace method will never work because the intermediate object on which we are setting values always behaves as a copy.\n",
      "\n",
      "For example, when doing 'df[col].method(value, inplace=True)', try using 'df.method({col: value}, inplace=True)' or df[col] = df[col].method(value) instead, to perform the operation inplace on the original object.\n",
      "\n",
      "\n",
      "  df[\"monto\"].fillna(df[\"monto\"].mean(), inplace=True)\n"
     ]
    }
   ],
   "source": [
    "import pandas as pd\n",
    "from pathlib import Path\n",
    "\n",
    "# Rutas\n",
    "data_path = Path.cwd().parent / \"data\"\n",
    "database_path = Path.cwd().parent / \"database\"\n",
    "database_path.mkdir(parents=True, exist_ok=True)\n",
    "\n",
    "input_file = data_path / \"pacientes.csv\"\n",
    "output_file = database_path / \"pacientes_clean.csv\"\n",
    "\n",
    "# Leer archivo CSV\n",
    "df = pd.read_csv(input_file)\n",
    "\n",
    "print(\"✅ Archivo cargado correctamente\")\n",
    "print(\"📌 Registros iniciales:\", len(df))\n",
    "\n",
    "# Limpieza de datos\n",
    "# Reemplazar NA o vacío\n",
    "df.replace([\"NA\", \"na\", \"\"], pd.NA, inplace=True)\n",
    "\n",
    "# Llenar valores nulos\n",
    "df[\"sexo\"].fillna(\"No especificado\", inplace=True)\n",
    "df[\"distrito\"].fillna(\"No registrado\", inplace=True)\n",
    "df[\"servicio\"].fillna(\"No asignado\", inplace=True)\n",
    "df[\"edad\"].fillna(df[\"edad\"].median(), inplace=True)  # rellenamos con mediana\n",
    "df[\"monto\"].fillna(df[\"monto\"].mean(), inplace=True)\n",
    "\n",
    "# Convertir tipos de datos\n",
    "df[\"edad\"] = df[\"edad\"].astype(int)\n",
    "df[\"monto\"] = df[\"monto\"].astype(float)\n",
    "\n",
    "# Formato de fechas\n",
    "df[\"fecha_atencion\"] = pd.to_datetime(df[\"fecha_atencion\"], errors='coerce')\n",
    "\n",
    "# Eliminar duplicados\n",
    "df.drop_duplicates(inplace=True)\n",
    "\n",
    "# Eliminar registros sin fecha válida\n",
    "df.dropna(subset=[\"fecha_atencion\"], inplace=True)\n",
    "\n",
    "# Guardar archivo limpio\n",
    "df.to_csv(output_file, index=False)\n",
    "print(\"✅ Archivo limpio guardado como:\", output_file)\n",
    "print(\"📌 Registros finales:\", len(df))\n"
   ]
  }
 ],
 "metadata": {
  "kernelspec": {
   "display_name": "myenv",
   "language": "python",
   "name": "python3"
  },
  "language_info": {
   "codemirror_mode": {
    "name": "ipython",
    "version": 3
   },
   "file_extension": ".py",
   "mimetype": "text/x-python",
   "name": "python",
   "nbconvert_exporter": "python",
   "pygments_lexer": "ipython3",
   "version": "3.13.8"
  }
 },
 "nbformat": 4,
 "nbformat_minor": 5
}
