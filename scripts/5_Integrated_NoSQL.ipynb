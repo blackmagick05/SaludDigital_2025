{
 "cells": [
  {
   "cell_type": "code",
   "execution_count": 1,
   "id": "87dcfcab",
   "metadata": {},
   "outputs": [
    {
     "name": "stdout",
     "output_type": "stream",
     "text": [
      "✅ Datos cargados exitosamente en MongoDB\n",
      "📌 Total registros: 3000\n"
     ]
    }
   ],
   "source": [
    "import pandas as pd\n",
    "from pymongo import MongoClient\n",
    "from pathlib import Path\n",
    "\n",
    "# Conectar a MongoDB\n",
    "client = MongoClient(\"mongodb://localhost:27017/\")\n",
    "db = client[\"SaludDigital_2025\"]\n",
    "collection = db[\"pacientes\"]\n",
    "\n",
    "# Cargar archivo limpio\n",
    "file_path = Path.cwd().parent / \"database\" / \"pacientes_clean.csv\"\n",
    "df = pd.read_csv(file_path)\n",
    "\n",
    "# Convertir DataFrame a diccionario\n",
    "data = df.to_dict(orient=\"records\")\n",
    "\n",
    "# Insertar datos en MongoDB\n",
    "collection.insert_many(data)\n",
    "\n",
    "print(\"✅ Datos cargados exitosamente en MongoDB\")\n",
    "print(f\"📌 Total registros: {collection.count_documents({})}\")\n"
   ]
  }
 ],
 "metadata": {
  "kernelspec": {
   "display_name": "myenv",
   "language": "python",
   "name": "python3"
  },
  "language_info": {
   "codemirror_mode": {
    "name": "ipython",
    "version": 3
   },
   "file_extension": ".py",
   "mimetype": "text/x-python",
   "name": "python",
   "nbconvert_exporter": "python",
   "pygments_lexer": "ipython3",
   "version": "3.13.8"
  }
 },
 "nbformat": 4,
 "nbformat_minor": 5
}
