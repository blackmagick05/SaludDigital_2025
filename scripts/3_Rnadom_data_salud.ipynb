{
 "cells": [
  {
   "cell_type": "code",
   "execution_count": 2,
   "id": "916bcd37",
   "metadata": {},
   "outputs": [
    {
     "name": "stdout",
     "output_type": "stream",
     "text": [
      "✅ Archivo generado correctamente: c:\\Users\\51935\\documents\\SaludDigital_2025\\data\\pacientes.csv\n",
      "Total de registros: 3000 pacientes\n"
     ]
    }
   ],
   "source": [
    "from pathlib import Path\n",
    "import csv\n",
    "import random\n",
    "from datetime import datetime, timedelta\n",
    "\n",
    "# Ruta de la carpeta data\n",
    "data_path = Path.cwd().parent / \"data\"\n",
    "data_path.mkdir(parents=True, exist_ok=True)\n",
    "\n",
    "file_path = data_path / \"pacientes.csv\"\n",
    "\n",
    "# Listas para generar datos simulados\n",
    "nombres = [\"Ana\", \"Luis\", \"María\", \"Jorge\", \"Lucía\", \"Pedro\", \"José\", \"Carmen\", \"Rosa\", \"Miguel\"]\n",
    "apellidos = [\"Torres\", \"Pérez\", \"García\", \"Rojas\", \"Ramírez\", \"Castillo\", \"Flores\", \"Gómez\"]\n",
    "sexos = [\"M\", \"F\", \"NA\", \"\"]\n",
    "distritos = [\"Lima\", \"Miraflores\", \"Surco\", \"Callao\", \"Comas\", \"San Isidro\", \"Los Olivos\", \"NA\"]\n",
    "servicios = [\"Pediatría\", \"Oncología\", \"Medicina General\", \"Odontología\", \"Dermatología\", \"Cardiología\", \"NA\"]\n",
    "\n",
    "def generar_fecha():\n",
    "    inicio = datetime.strptime(\"2020-01-01\", \"%Y-%m-%d\")\n",
    "    fin = datetime.strptime(\"2025-01-01\", \"%Y-%m-%d\")\n",
    "    delta = fin - inicio\n",
    "    random_days = random.randint(0, delta.days)\n",
    "    return (inicio + timedelta(days=random_days)).strftime(\"%Y-%m-%d\")\n",
    "\n",
    "# Generar 3000 registros\n",
    "with open(file_path, mode=\"w\", newline=\"\", encoding=\"utf-8\") as file:\n",
    "    writer = csv.writer(file)\n",
    "    writer.writerow([\"id_paciente\", \"nombre\", \"edad\", \"sexo\", \"distrito\", \"servicio\", \"fecha_atencion\", \"monto\"])\n",
    "\n",
    "    for i in range(1, 3001):\n",
    "        id_paciente = f\"P{str(i).zfill(4)}\"\n",
    "        nombre = f\"{random.choice(nombres)} {random.choice(apellidos)}\"\n",
    "        edad = random.choice([random.randint(1, 90), \"NA\"])\n",
    "        sexo = random.choice(sexos)\n",
    "        distrito = random.choice(distritos)\n",
    "        servicio = random.choice(servicios)\n",
    "        fecha = generar_fecha()\n",
    "        monto = round(random.uniform(50, 500), 2)\n",
    "        writer.writerow([id_paciente, nombre, edad, sexo, distrito, servicio, fecha, monto])\n",
    "\n",
    "print(f\"✅ Archivo generado correctamente: {file_path}\")\n",
    "print(f\"Total de registros: {len(list(open(file_path))) - 1} pacientes\")\n"
   ]
  }
 ],
 "metadata": {
  "kernelspec": {
   "display_name": "myenv",
   "language": "python",
   "name": "python3"
  },
  "language_info": {
   "codemirror_mode": {
    "name": "ipython",
    "version": 3
   },
   "file_extension": ".py",
   "mimetype": "text/x-python",
   "name": "python",
   "nbconvert_exporter": "python",
   "pygments_lexer": "ipython3",
   "version": "3.13.8"
  }
 },
 "nbformat": 4,
 "nbformat_minor": 5
}
